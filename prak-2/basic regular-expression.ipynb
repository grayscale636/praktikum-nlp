{
 "cells": [
  {
   "cell_type": "markdown",
   "metadata": {},
   "source": [
    "### **re.search()**\n",
    "bakal nyari kemunculan sebuah kata dari sebuah string "
   ]
  },
  {
   "cell_type": "code",
   "execution_count": 2,
   "metadata": {},
   "outputs": [
    {
     "name": "stdout",
     "output_type": "stream",
     "text": [
      "Portugal\n"
     ]
    }
   ],
   "source": [
    "# search untuk mencari pola regular expression pertama yang cocok dengan string input\n",
    "import re\n",
    "\n",
    "txt = \"Ronaldo dari Portugal\"\n",
    "x = re.search(\"Portugal\", txt)\n",
    "print(x.group())"
   ]
  },
  {
   "cell_type": "code",
   "execution_count": 3,
   "metadata": {},
   "outputs": [
    {
     "name": "stdout",
     "output_type": "stream",
     "text": [
      "None\n"
     ]
    }
   ],
   "source": [
    "import re\n",
    "\n",
    "txt = \"Ronaldo dari portugal\"\n",
    "x = re.search(\"Messi\", txt)\n",
    "print(x)"
   ]
  },
  {
   "cell_type": "markdown",
   "metadata": {},
   "source": [
    "### **re.match()**\n",
    "mirip sama re.search() cuman bedanya re.match() ngecocokin yang awal"
   ]
  },
  {
   "cell_type": "code",
   "execution_count": 4,
   "metadata": {},
   "outputs": [
    {
     "name": "stdout",
     "output_type": "stream",
     "text": [
      "Pola tidak ditemukan di awal string. >>> None\n",
      "Pola tidak ditemukan di awal string. >>> None\n",
      "Pola ditemukan di awal string. >>> Halo\n"
     ]
    }
   ],
   "source": [
    "# match (untuk mencari string yang berawalan kata tertentu)\n",
    "\n",
    "import re\n",
    "\n",
    "text = \"Halo, nama saya Edward.\"\n",
    "\n",
    "patterns = [\"nama\", \"Edward\", \"Halo\"]\n",
    "\n",
    "for pattern in patterns:\n",
    "    match = re.match(pattern, text)\n",
    "    if match:\n",
    "        print(f\"Pola ditemukan di awal string. >>> {match.group()}\")\n",
    "    else:\n",
    "        print(f\"Pola tidak ditemukan di awal string. >>> {match}\")"
   ]
  },
  {
   "cell_type": "markdown",
   "metadata": {},
   "source": [
    "### **re.findall**\n",
    "bakal nyari semua kecocokan dari pola regex"
   ]
  },
  {
   "cell_type": "code",
   "execution_count": 5,
   "metadata": {},
   "outputs": [
    {
     "name": "stdout",
     "output_type": "stream",
     "text": [
      "['081554469780', '087465537920']\n"
     ]
    }
   ],
   "source": [
    "# findall (untuk menemukan semua kecocokan dari pola regular expression dalam sebuah string input)\n",
    "\n",
    "import re\n",
    "\n",
    "text = \"nomor telepon steve adalah 081554469780, sedangkan jobs adalah 087465537920.\"\n",
    "# pattern = r'\\d{12}'\n",
    "pattern = r'\\d{12,13}'\n",
    "matches = re.findall(pattern, text)\n",
    "\n",
    "print(matches)"
   ]
  },
  {
   "cell_type": "code",
   "execution_count": 6,
   "metadata": {},
   "outputs": [
    {
     "name": "stdout",
     "output_type": "stream",
     "text": [
      "Halo, nama saya John. Saya adalah mantan pegulat WWE.\n"
     ]
    }
   ],
   "source": [
    "# contoh lain dari findall (menemukan seluruh dokumen yang mengandung kata tertentu)\n",
    "\n",
    "import re\n",
    "\n",
    "text = \"Halo, nama saya John. Saya adalah mantan pegulat WWE.\"\n",
    "\n",
    "pattern = \".*John.*\"\n",
    "\n",
    "matches = re.findall(pattern, text)\n",
    "\n",
    "for match in matches:\n",
    "    matches = re.findall(pattern, text)\n",
    "    if match:\n",
    "        print(match)\n",
    "    else:\n",
    "        print(\"kata tidak ditemukan\")\n"
   ]
  },
  {
   "cell_type": "code",
   "execution_count": 7,
   "metadata": {},
   "outputs": [
    {
     "data": {
      "text/plain": [
       "'Halo, nama saya Rey. Saya adalah Petarunk MMA.'"
      ]
     },
     "execution_count": 7,
     "metadata": {},
     "output_type": "execute_result"
    }
   ],
   "source": [
    "# mengganti sebuah kata menggunakan regex\n",
    "\n",
    "import re\n",
    "\n",
    "text = \"Halo, nama saya Rey. Saya adalah Petarunk MMA.\"\n",
    "text"
   ]
  },
  {
   "cell_type": "code",
   "execution_count": 8,
   "metadata": {},
   "outputs": [
    {
     "name": "stdout",
     "output_type": "stream",
     "text": [
      "Halo, nama saya Julian. Saya adalah Petarunk MMA.\n"
     ]
    }
   ],
   "source": [
    "pattern = \"Rey\"\n",
    "replacement = \"Don\"\n",
    "\n",
    "new_text = re.sub(\"Rey\", \"Julian\", text)\n",
    "\n",
    "print(new_text)"
   ]
  },
  {
   "cell_type": "code",
   "execution_count": 9,
   "metadata": {},
   "outputs": [],
   "source": [
    "# pip install faker"
   ]
  },
  {
   "cell_type": "code",
   "execution_count": 10,
   "metadata": {},
   "outputs": [
    {
     "name": "stdout",
     "output_type": "stream",
     "text": [
      "10 data dummy telah disimpan dalam dummy_data.txt.\n"
     ]
    }
   ],
   "source": [
    "from faker import Faker\n",
    "\n",
    "fake = Faker()\n",
    "\n",
    "jumlah_data = 10\n",
    "\n",
    "dummy_data = []\n",
    "\n",
    "for _ in range(jumlah_data):\n",
    "    nama = fake.name()\n",
    "    nomor_telepon = fake.phone_number()\n",
    "    alamat = fake.address()\n",
    "    email = fake.email()\n",
    "    \n",
    "    data = f\"Nama: {nama}\\nNomor Telepon: {nomor_telepon}\\nAlamat: {alamat}\\nEmail: {email}\\n\"\n",
    "    dummy_data.append(data)\n",
    "\n",
    "file_name = \"dummy_data.txt\"\n",
    "with open(file_name, \"w\") as file:\n",
    "    for data in dummy_data:\n",
    "        file.write(data + \"\\n\")\n",
    "\n",
    "print(f\"{jumlah_data} data dummy telah disimpan dalam {file_name}.\")\n"
   ]
  },
  {
   "cell_type": "code",
   "execution_count": 11,
   "metadata": {},
   "outputs": [
    {
     "name": "stdout",
     "output_type": "stream",
     "text": [
      "['justinowens@example.com', 'rosecarter@example.net', 'dalexander@example.net', 'colleenfitzgerald@example.org', 'mistyrobles@example.net', 'daltonparker@example.net', 'jimmykim@example.net', 'francisjames@example.net', 'brian79@example.com', 'mark75@example.org']\n"
     ]
    }
   ],
   "source": [
    "import re\n",
    "\n",
    "pattern = r\"[a-zA-Z0-9_.+-]+@[a-zA-Z0-9-]+\\.[a-zA-Z.]+\"\n",
    "\n",
    "# [a-zA-Z0-9_.+-] untuk mencari awal (username sebelum email) termasuk semua huruf, tanda _.+ dan -\n",
    "# + setelahnya menunjukkan bahwa harus ada setidaknya 1 kecocokan string dengan ekspresi regex sebelumnya\n",
    "# @ adalah simbol yang digunakan untuk menghubungkan username dengan domain name.\n",
    "# [a-zA-Z0-9-] adalah nama alamat domain setelah tanda @\n",
    "# \\. menandakan bahwa harus ada titik setelah ekspresi sebelumnya\n",
    "# [a-zA-Z]+ menandakan nama domain pada alamat email ex: net, biz, com\n",
    "\n",
    "with open(\"dummy_data.txt\", \"r\") as f:\n",
    "    data = f.readlines()\n",
    "\n",
    "emails = []\n",
    "\n",
    "for line in data:\n",
    "    match = re.search(pattern, line)\n",
    "    if match:\n",
    "        emails.append(match.group())\n",
    "print(emails)"
   ]
  },
  {
   "cell_type": "code",
   "execution_count": 24,
   "metadata": {},
   "outputs": [
    {
     "data": {
      "text/plain": [
       "['7675306195',\n",
       " '15873125387',\n",
       " '14924632059',\n",
       " '2065519133',\n",
       " '3648473226',\n",
       " '4696554648',\n",
       " '0012458317271',\n",
       " '2773169896',\n",
       " '7652383523',\n",
       " '0015679608069']"
      ]
     },
     "execution_count": 24,
     "metadata": {},
     "output_type": "execute_result"
    }
   ],
   "source": [
    "with open(\"dummy_data.txt\", \"r\") as f:\n",
    "    teks = f.readlines()\n",
    "    text = \"\".join(teks)\n",
    "\n",
    "pola_nomor_telepon = r'Nomor Telepon:\\s+([\\d+()-]+)'\n",
    "nomor_telepon = re.findall(pola_nomor_telepon, text)\n",
    "\n",
    "nums = []\n",
    "# Mengambil nomor telepon yang cocok\n",
    "for num in nomor_telepon:\n",
    "    # Substituting multiple spaces with single space\n",
    "    num = re.sub(r'\\s+', '', num, flags=re.I)\n",
    "    \n",
    "    # Menghilangkan karakter spesial\n",
    "    num = re.sub(r'\\W', '', num)\n",
    "    nums.append(num)\n",
    "    \n",
    "# Output data Preprocessing\n",
    "nums\n"
   ]
  },
  {
   "cell_type": "code",
   "execution_count": 33,
   "metadata": {},
   "outputs": [
    {
     "data": {
      "text/html": [
       "<div>\n",
       "<style scoped>\n",
       "    .dataframe tbody tr th:only-of-type {\n",
       "        vertical-align: middle;\n",
       "    }\n",
       "\n",
       "    .dataframe tbody tr th {\n",
       "        vertical-align: top;\n",
       "    }\n",
       "\n",
       "    .dataframe thead th {\n",
       "        text-align: right;\n",
       "    }\n",
       "</style>\n",
       "<table border=\"1\" class=\"dataframe\">\n",
       "  <thead>\n",
       "    <tr style=\"text-align: right;\">\n",
       "      <th></th>\n",
       "      <th>email</th>\n",
       "      <th>nomor_telepon</th>\n",
       "    </tr>\n",
       "  </thead>\n",
       "  <tbody>\n",
       "    <tr>\n",
       "      <th>0</th>\n",
       "      <td>justinowens@example.com</td>\n",
       "      <td>7675306195</td>\n",
       "    </tr>\n",
       "    <tr>\n",
       "      <th>1</th>\n",
       "      <td>rosecarter@example.net</td>\n",
       "      <td>15873125387</td>\n",
       "    </tr>\n",
       "    <tr>\n",
       "      <th>2</th>\n",
       "      <td>dalexander@example.net</td>\n",
       "      <td>14924632059</td>\n",
       "    </tr>\n",
       "    <tr>\n",
       "      <th>3</th>\n",
       "      <td>colleenfitzgerald@example.org</td>\n",
       "      <td>2065519133</td>\n",
       "    </tr>\n",
       "    <tr>\n",
       "      <th>4</th>\n",
       "      <td>mistyrobles@example.net</td>\n",
       "      <td>3648473226</td>\n",
       "    </tr>\n",
       "    <tr>\n",
       "      <th>5</th>\n",
       "      <td>daltonparker@example.net</td>\n",
       "      <td>4696554648</td>\n",
       "    </tr>\n",
       "    <tr>\n",
       "      <th>6</th>\n",
       "      <td>jimmykim@example.net</td>\n",
       "      <td>0012458317271</td>\n",
       "    </tr>\n",
       "    <tr>\n",
       "      <th>7</th>\n",
       "      <td>francisjames@example.net</td>\n",
       "      <td>2773169896</td>\n",
       "    </tr>\n",
       "    <tr>\n",
       "      <th>8</th>\n",
       "      <td>brian79@example.com</td>\n",
       "      <td>7652383523</td>\n",
       "    </tr>\n",
       "    <tr>\n",
       "      <th>9</th>\n",
       "      <td>mark75@example.org</td>\n",
       "      <td>0015679608069</td>\n",
       "    </tr>\n",
       "  </tbody>\n",
       "</table>\n",
       "</div>"
      ],
      "text/plain": [
       "                           email  nomor_telepon\n",
       "0        justinowens@example.com     7675306195\n",
       "1         rosecarter@example.net    15873125387\n",
       "2         dalexander@example.net    14924632059\n",
       "3  colleenfitzgerald@example.org     2065519133\n",
       "4        mistyrobles@example.net     3648473226\n",
       "5       daltonparker@example.net     4696554648\n",
       "6           jimmykim@example.net  0012458317271\n",
       "7       francisjames@example.net     2773169896\n",
       "8            brian79@example.com     7652383523\n",
       "9             mark75@example.org  0015679608069"
      ]
     },
     "execution_count": 33,
     "metadata": {},
     "output_type": "execute_result"
    }
   ],
   "source": [
    "import pandas as pd\n",
    "pd.DataFrame({\"email\": emails, \"nomor_telepon\": nums})"
   ]
  },
  {
   "cell_type": "code",
   "execution_count": null,
   "metadata": {},
   "outputs": [],
   "source": []
  }
 ],
 "metadata": {
  "kernelspec": {
   "display_name": "base",
   "language": "python",
   "name": "python3"
  },
  "language_info": {
   "codemirror_mode": {
    "name": "ipython",
    "version": 3
   },
   "file_extension": ".py",
   "mimetype": "text/x-python",
   "name": "python",
   "nbconvert_exporter": "python",
   "pygments_lexer": "ipython3",
   "version": "3.9.18"
  }
 },
 "nbformat": 4,
 "nbformat_minor": 2
}
